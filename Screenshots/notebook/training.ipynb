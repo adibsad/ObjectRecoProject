{
 "cells": [
  {
   "cell_type": "code",
   "execution_count": 32,
   "metadata": {},
   "outputs": [],
   "source": [
    "from PIL import Image, ImageDraw\n",
    "import pandas as pd\n",
    "import numpy as np\n",
    "from matplotlib.pyplot import imshow \n",
    "%matplotlib inline"
   ]
  },
  {
   "cell_type": "code",
   "execution_count": 14,
   "metadata": {},
   "outputs": [
    {
     "data": {
      "text/html": [
       "<div>\n",
       "<style scoped>\n",
       "    .dataframe tbody tr th:only-of-type {\n",
       "        vertical-align: middle;\n",
       "    }\n",
       "\n",
       "    .dataframe tbody tr th {\n",
       "        vertical-align: top;\n",
       "    }\n",
       "\n",
       "    .dataframe thead th {\n",
       "        text-align: right;\n",
       "    }\n",
       "</style>\n",
       "<table border=\"1\" class=\"dataframe\">\n",
       "  <thead>\n",
       "    <tr style=\"text-align: right;\">\n",
       "      <th></th>\n",
       "      <th>index</th>\n",
       "      <th>path</th>\n",
       "      <th>label</th>\n",
       "      <th>eval</th>\n",
       "      <th>x_1</th>\n",
       "      <th>y_1</th>\n",
       "      <th>x_2</th>\n",
       "      <th>y_2</th>\n",
       "    </tr>\n",
       "  </thead>\n",
       "  <tbody>\n",
       "    <tr>\n",
       "      <th>0</th>\n",
       "      <td>0</td>\n",
       "      <td>E:\\ODProject\\ODProject\\Screenshots\\screenshot_...</td>\n",
       "      <td>truck</td>\n",
       "      <td>train</td>\n",
       "      <td>215.4351</td>\n",
       "      <td>127.8506</td>\n",
       "      <td>496.8220</td>\n",
       "      <td>293.1602</td>\n",
       "    </tr>\n",
       "    <tr>\n",
       "      <th>1</th>\n",
       "      <td>1</td>\n",
       "      <td>E:\\ODProject\\ODProject\\Screenshots\\screenshot_...</td>\n",
       "      <td>truck</td>\n",
       "      <td>train</td>\n",
       "      <td>210.2418</td>\n",
       "      <td>118.6342</td>\n",
       "      <td>493.4199</td>\n",
       "      <td>297.5288</td>\n",
       "    </tr>\n",
       "    <tr>\n",
       "      <th>2</th>\n",
       "      <td>2</td>\n",
       "      <td>E:\\ODProject\\ODProject\\Screenshots\\screenshot_...</td>\n",
       "      <td>truck</td>\n",
       "      <td>train</td>\n",
       "      <td>237.0051</td>\n",
       "      <td>118.3810</td>\n",
       "      <td>498.2325</td>\n",
       "      <td>297.6489</td>\n",
       "    </tr>\n",
       "    <tr>\n",
       "      <th>3</th>\n",
       "      <td>3</td>\n",
       "      <td>E:\\ODProject\\ODProject\\Screenshots\\screenshot_...</td>\n",
       "      <td>truck</td>\n",
       "      <td>train</td>\n",
       "      <td>218.4892</td>\n",
       "      <td>130.0943</td>\n",
       "      <td>434.5858</td>\n",
       "      <td>292.0966</td>\n",
       "    </tr>\n",
       "    <tr>\n",
       "      <th>4</th>\n",
       "      <td>4</td>\n",
       "      <td>E:\\ODProject\\ODProject\\Screenshots\\screenshot_...</td>\n",
       "      <td>truck</td>\n",
       "      <td>train</td>\n",
       "      <td>236.3466</td>\n",
       "      <td>132.8997</td>\n",
       "      <td>495.7620</td>\n",
       "      <td>290.7668</td>\n",
       "    </tr>\n",
       "  </tbody>\n",
       "</table>\n",
       "</div>"
      ],
      "text/plain": [
       "   index                                               path  label   eval  \\\n",
       "0      0  E:\\ODProject\\ODProject\\Screenshots\\screenshot_...  truck  train   \n",
       "1      1  E:\\ODProject\\ODProject\\Screenshots\\screenshot_...  truck  train   \n",
       "2      2  E:\\ODProject\\ODProject\\Screenshots\\screenshot_...  truck  train   \n",
       "3      3  E:\\ODProject\\ODProject\\Screenshots\\screenshot_...  truck  train   \n",
       "4      4  E:\\ODProject\\ODProject\\Screenshots\\screenshot_...  truck  train   \n",
       "\n",
       "        x_1       y_1       x_2       y_2  \n",
       "0  215.4351  127.8506  496.8220  293.1602  \n",
       "1  210.2418  118.6342  493.4199  297.5288  \n",
       "2  237.0051  118.3810  498.2325  297.6489  \n",
       "3  218.4892  130.0943  434.5858  292.0966  \n",
       "4  236.3466  132.8997  495.7620  290.7668  "
      ]
     },
     "execution_count": 14,
     "metadata": {},
     "output_type": "execute_result"
    }
   ],
   "source": [
    "data = pd.read_csv('../training_labels.csv', sep=\" \", skiprows=0, engine=\"python\")\n",
    " \n",
    "\n",
    "data.head()"
   ]
  },
  {
   "cell_type": "code",
   "execution_count": 47,
   "metadata": {},
   "outputs": [
    {
     "data": {
      "text/plain": [
       "<matplotlib.image.AxesImage at 0x259187eb2b0>"
      ]
     },
     "execution_count": 47,
     "metadata": {},
     "output_type": "execute_result"
    },
    {
     "data": {
      "image/png": "[encoded data removed]",
      "text/plain": [
       "<Figure size 432x288 with 1 Axes>"
      ]
     },
     "metadata": {
      "needs_background": "light"
     },
     "output_type": "display_data"
    }
   ],
   "source": [
    "img_idx = np.random.randint(data.shape[0])\n",
    "source_img = Image.open(data['path'][img_idx])\n",
    "draw = ImageDraw.Draw(source_img)\n",
    "draw.rectangle(((int(data['x_1'][img_idx])),(int(data['y_1'][img_idx])), \n",
    "               ((int(data['x_2'][img_idx])), int(data['y_2'][img_idx]))), \n",
    "              outline='red')\n",
    "del draw\n",
    "imshow(np.asarray(source_img))"
   ]
  },
  {
   "cell_type": "code",
   "execution_count": null,
   "metadata": {},
   "outputs": [],
   "source": []
  },
  {
   "cell_type": "code",
   "execution_count": null,
   "metadata": {},
   "outputs": [],
   "source": []
  }
 ],
 "metadata": {
  "kernelspec": {
   "display_name": "Python 3",
   "language": "python",
   "name": "python3"
  },
  "language_info": {
   "codemirror_mode": {
    "name": "ipython",
    "version": 3
   },
   "file_extension": ".py",
   "mimetype": "text/x-python",
   "name": "python",
   "nbconvert_exporter": "python",
   "pygments_lexer": "ipython3",
   "version": "3.7.1"
  }
 },
 "nbformat": 4,
 "nbformat_minor": 4
}
